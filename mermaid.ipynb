{
 "cells": [
  {
   "cell_type": "code",
   "execution_count": 4,
   "metadata": {},
   "outputs": [
    {
     "ename": "ModuleNotFoundError",
     "evalue": "No module named 'pymermaid.generator'",
     "output_type": "error",
     "traceback": [
      "\u001b[0;31m---------------------------------------------------------------------------\u001b[0m",
      "\u001b[0;31mModuleNotFoundError\u001b[0m                       Traceback (most recent call last)",
      "Cell \u001b[0;32mIn[4], line 1\u001b[0m\n\u001b[0;32m----> 1\u001b[0m \u001b[38;5;28;01mfrom\u001b[39;00m \u001b[38;5;21;01mpymermaid\u001b[39;00m\u001b[38;5;21;01m.\u001b[39;00m\u001b[38;5;21;01mgenerator\u001b[39;00m \u001b[38;5;28;01mimport\u001b[39;00m MermaidGenerator\n\u001b[1;32m      4\u001b[0m \u001b[38;5;66;03m# Paste your mermaid code here\u001b[39;00m\n\u001b[1;32m      5\u001b[0m code \u001b[38;5;241m=\u001b[39m \u001b[38;5;124m\"\"\"\u001b[39m\n\u001b[1;32m      6\u001b[0m \u001b[38;5;124mgraph LR\u001b[39m\n\u001b[1;32m      7\u001b[0m \u001b[38;5;124mA[Choose data and config] --> B\u001b[39m\u001b[38;5;124m{\u001b[39m\u001b[38;5;124mLoad data (CSV)}\u001b[39m\n\u001b[0;32m   (...)\u001b[0m\n\u001b[1;32m     15\u001b[0m \u001b[38;5;124mI --> J\u001b[39m\u001b[38;5;124m{\u001b[39m\u001b[38;5;124mExport data (CSV & Anki package)}\u001b[39m\n\u001b[1;32m     16\u001b[0m \u001b[38;5;124m\"\"\"\u001b[39m\n",
      "\u001b[0;31mModuleNotFoundError\u001b[0m: No module named 'pymermaid.generator'"
     ]
    }
   ],
   "source": [
    "from pymermaid import generator \n",
    "\n",
    "\n",
    "# Paste your mermaid code here\n",
    "code = \"\"\"\n",
    "graph LR\n",
    "A[Choose data and config] --> B{Load data (CSV)}\n",
    "B --> C{Load config (YAML)}\n",
    "C --> D{Basic configurations}\n",
    "D --> E{Create AI prompts}\n",
    "E --> F{Handle API errors}\n",
    "F --> G{Formatting}\n",
    "G --> H{Add Furigana}\n",
    "H --> I{Generate Anki deck}\n",
    "I --> J{Export data (CSV & Anki package)}\n",
    "\"\"\"\n",
    "\n",
    "# Generate the mermaid diagram\n",
    "mermaid = generator()\n",
    "diagram = mermaid.generate(code)\n",
    "\n",
    "# Display the diagram in the notebook cell (replace 'html' with 'svg' for a different format)\n",
    "from IPython.display import display, HTML\n",
    "display(HTML(diagram))\n"
   ]
  }
 ],
 "metadata": {
  "kernelspec": {
   "display_name": "venv",
   "language": "python",
   "name": "python3"
  },
  "language_info": {
   "codemirror_mode": {
    "name": "ipython",
    "version": 3
   },
   "file_extension": ".py",
   "mimetype": "text/x-python",
   "name": "python",
   "nbconvert_exporter": "python",
   "pygments_lexer": "ipython3",
   "version": "3.12.2"
  }
 },
 "nbformat": 4,
 "nbformat_minor": 2
}
