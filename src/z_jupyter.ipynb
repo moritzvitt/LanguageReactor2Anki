{
 "cells": [
  {
   "cell_type": "code",
   "execution_count": 1,
   "metadata": {},
   "outputs": [],
   "source": [
    "import yaml\n",
    "import pandas as pd\n",
    "from pathlib import Path"
   ]
  },
  {
   "cell_type": "code",
   "execution_count": 3,
   "metadata": {},
   "outputs": [],
   "source": [
    "csv_file_path = Path(\"test_dataframes/italian_items/items_long.csv\")\n",
    "\n",
    "    # Load the csv file\n",
    "df = pd.read_csv(csv_file_path, delimiter='\\t')\n",
    "\n",
    "with open('config/column_names.yaml', 'r') as file:\n",
    "        data = yaml.safe_load(file)\n",
    "        column_names = data['column_names']\n",
    "\n",
    "\n",
    "df.columns = column_names\n",
    "\n",
    "# select the columns word and long_sentence\n",
    "\n",
    "df = df[['word', 'long_phrase']]\n",
    "df.to_csv('test_dataframes/italian_items/items_long_changed.csv', sep='\\t', index=False)\n",
    "\n"
   ]
  }
 ],
 "metadata": {
  "kernelspec": {
   "display_name": "venv",
   "language": "python",
   "name": "python3"
  },
  "language_info": {
   "codemirror_mode": {
    "name": "ipython",
    "version": 3
   },
   "file_extension": ".py",
   "mimetype": "text/x-python",
   "name": "python",
   "nbconvert_exporter": "python",
   "pygments_lexer": "ipython3",
   "version": "3.12.2"
  }
 },
 "nbformat": 4,
 "nbformat_minor": 2
}
